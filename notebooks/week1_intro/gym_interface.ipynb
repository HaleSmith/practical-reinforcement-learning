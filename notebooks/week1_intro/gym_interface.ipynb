{
 "cells": [
  {
   "cell_type": "code",
   "execution_count": 1,
   "metadata": {},
   "outputs": [
    {
     "name": "stdout",
     "output_type": "stream",
     "text": [
      "Starting virtual X frame buffer: Xvfb.\n",
      "env: DISPLAY=:1\n"
     ]
    }
   ],
   "source": [
    "import numpy as np\n",
    "import matplotlib.pyplot as plt\n",
    "%matplotlib inline\n",
    "\n",
    "# This code creates a virtual display to draw game images on. \n",
    "# If you are running locally, just ignore it\n",
    "import os\n",
    "if type(os.environ.get(\"DISPLAY\")) is not str or len(os.environ.get(\"DISPLAY\"))==0:\n",
    "    !bash ../xvfb start\n",
    "    %env DISPLAY=:1"
   ]
  },
  {
   "cell_type": "markdown",
   "metadata": {},
   "source": [
    "### OpenAI Gym\n",
    "\n",
    "We're gonna spend several next weeks learning algorithms that solve decision processes. We are then in need of some interesting decision problems to test our algorithms.\n",
    "\n",
    "That's where OpenAI gym comes into play. It's a python library that wraps many classical decision problems including robot control, videogames and board games.\n",
    "\n",
    "So here's how it works:"
   ]
  },
  {
   "cell_type": "code",
   "execution_count": 3,
   "metadata": {},
   "outputs": [
    {
     "name": "stdout",
     "output_type": "stream",
     "text": [
      "\u001b[33mWARN: gym.spaces.Box autodetected dtype as <class 'numpy.float32'>. Please provide explicit dtype.\u001b[0m\n",
      "Observation space: Box(2,)\n",
      "Action space: Discrete(3)\n"
     ]
    }
   ],
   "source": [
    "import gym\n",
    "env = gym.make(\"MountainCar-v0\")\n",
    "\n",
    "# plt.imshow(env.render('rgb_array'))\n",
    "print(\"Observation space:\", env.observation_space)\n",
    "print(\"Action space:\", env.action_space)"
   ]
  },
  {
   "cell_type": "markdown",
   "metadata": {},
   "source": [
    "Note: if you're running this on your local machine, you'll see a window pop up with the image above. Don't close it, just alt-tab away."
   ]
  },
  {
   "cell_type": "markdown",
   "metadata": {},
   "source": [
    "### Gym interface\n",
    "\n",
    "The three main methods of an environment are\n",
    "* __reset()__ - reset environment to initial state, _return first observation_\n",
    "* __render()__ - show current environment state (a more colorful version :) )\n",
    "* __step(a)__ - commit action __a__ and return (new observation, reward, is done, info)\n",
    " * _new observation_ - an observation right after commiting the action __a__\n",
    " * _reward_ - a number representing your reward for commiting action __a__\n",
    " * _is done_ - True if the MDP has just finished, False if still in progress\n",
    " * _info_ - some auxilary stuff about what just happened. Ignore it ~~for now~~."
   ]
  },
  {
   "cell_type": "code",
   "execution_count": 3,
   "metadata": {
    "scrolled": true
   },
   "outputs": [
    {
     "name": "stdout",
     "output_type": "stream",
     "text": [
      "initial observation code: [-0.40266439  0.        ]\n"
     ]
    }
   ],
   "source": [
    "obs0 = env.reset()\n",
    "print(\"initial observation code:\", obs0)\n",
    "\n",
    "# Note: in MountainCar, observation is just two numbers: car position and velocity"
   ]
  },
  {
   "cell_type": "code",
   "execution_count": 4,
   "metadata": {},
   "outputs": [
    {
     "name": "stdout",
     "output_type": "stream",
     "text": [
      "taking action 2 (right)\n",
      "new observation code: [ -4.02551631e-01   1.12759220e-04]\n",
      "reward: -1.0\n",
      "is game over?: False\n"
     ]
    }
   ],
   "source": [
    "print(\"taking action 2 (right)\")\n",
    "new_obs, reward, is_done, _ = env.step(2)\n",
    "\n",
    "print(\"new observation code:\", new_obs)\n",
    "print(\"reward:\", reward)\n",
    "print(\"is game over?:\", is_done)\n",
    "\n",
    "# Note: as you can see, the car has moved to the riht slightly (around 0.0005)"
   ]
  },
  {
   "cell_type": "markdown",
   "metadata": {},
   "source": [
    "### Play with it\n",
    "\n",
    "Below is the code that drives the car to the right. \n",
    "\n",
    "However, it doesn't reach the flag at the far right due to gravity. \n",
    "\n",
    "__Your task__ is to fix it. Find a strategy that reaches the flag. \n",
    "\n",
    "You're not required to build any sophisticated algorithms for now, feel free to hard-code :)\n",
    "\n",
    "_Hint: your action at each step should depend either on __t__ or on __s__._"
   ]
  },
  {
   "cell_type": "code",
   "execution_count": 25,
   "metadata": {},
   "outputs": [
    {
     "name": "stdout",
     "output_type": "stream",
     "text": [
      "\u001b[33mWARN: gym.spaces.Box autodetected dtype as <class 'numpy.float32'>. Please provide explicit dtype.\u001b[0m\n",
      "0 0 0\n",
      "1 0 0\n",
      "2 0 0\n",
      "3 0 0\n",
      "4 0 0\n",
      "5 0 0\n",
      "6 0 0\n",
      "7 0 0\n",
      "8 0 0\n",
      "9 0 0\n",
      "10 0 0\n",
      "11 0 0\n",
      "12 0 0\n",
      "13 0 0\n",
      "14 0 0\n",
      "15 0 0\n",
      "16 0 0\n",
      "17 0 0\n",
      "18 0 0\n",
      "19 0 0\n",
      "20 0 0\n",
      "21 0 0\n",
      "22 0 0\n",
      "23 0 0\n",
      "24 0 0\n",
      "25 0 0\n",
      "26 0 0\n",
      "27 0 0\n",
      "28 0 0\n",
      "29 0 0\n",
      "30 0 0\n",
      "31 0 0\n",
      "32 0 0\n",
      "33 0 0\n",
      "34 0 0\n",
      "35 0 0\n",
      "36 0 0\n",
      "37 0 0\n",
      "38 0 2\n",
      "39 2 2\n",
      "40 2 2\n",
      "41 2 2\n",
      "42 2 2\n",
      "43 2 2\n",
      "44 2 2\n",
      "45 2 2\n",
      "46 2 2\n",
      "47 2 2\n",
      "48 2 2\n",
      "49 2 2\n",
      "50 2 2\n",
      "51 2 2\n",
      "52 2 2\n",
      "53 2 2\n",
      "54 2 2\n",
      "55 2 2\n",
      "56 2 2\n",
      "57 2 2\n",
      "58 2 2\n",
      "59 2 2\n",
      "60 2 2\n",
      "61 2 2\n",
      "62 2 2\n",
      "63 2 2\n",
      "64 2 2\n",
      "65 2 2\n",
      "66 2 2\n",
      "67 2 2\n",
      "68 2 2\n",
      "69 2 2\n",
      "70 2 2\n",
      "71 2 2\n",
      "72 2 2\n",
      "73 2 2\n",
      "74 2 2\n",
      "75 2 2\n",
      "76 2 2\n",
      "77 2 2\n",
      "78 2 2\n",
      "79 2 2\n",
      "80 2 2\n",
      "81 2 2\n",
      "82 2 0\n",
      "83 2 0\n",
      "84 2 0\n",
      "85 2 0\n",
      "86 2 0\n",
      "87 2 0\n",
      "88 2 0\n",
      "89 2 0\n",
      "90 0 0\n",
      "91 0 0\n",
      "92 0 0\n",
      "93 0 0\n",
      "94 0 0\n",
      "95 0 0\n",
      "96 0 0\n",
      "97 0 0\n",
      "98 0 0\n",
      "99 0 0\n",
      "100 0 0\n",
      "101 0 0\n",
      "102 0 0\n",
      "103 0 0\n",
      "104 0 0\n",
      "105 0 0\n",
      "106 0 0\n",
      "107 0 0\n",
      "108 0 0\n",
      "109 0 0\n",
      "110 0 0\n",
      "111 0 0\n",
      "112 0 0\n",
      "113 0 0\n",
      "114 0 0\n",
      "115 0 0\n",
      "116 0 0\n",
      "117 0 0\n",
      "118 0 2\n",
      "119 0 2\n",
      "120 0 2\n",
      "121 0 2\n",
      "122 0 2\n",
      "123 0 2\n",
      "124 2 2\n",
      "125 2 2\n",
      "126 2 2\n",
      "127 2 2\n",
      "128 2 2\n",
      "129 2 2\n",
      "130 2 2\n",
      "131 2 2\n",
      "132 2 2\n",
      "133 2 2\n",
      "134 2 2\n",
      "135 2 2\n",
      "136 2 2\n",
      "137 2 2\n",
      "138 2 2\n",
      "139 2 2\n",
      "140 2 2\n",
      "141 2 2\n",
      "142 2 2\n",
      "143 2 2\n",
      "144 2 2\n",
      "145 2 2\n",
      "146 2 2\n",
      "147 2 2\n",
      "148 2 2\n",
      "149 2 2\n",
      "150 2 2\n",
      "151 2 2\n",
      "152 2 2\n",
      "153 2 2\n",
      "154 2 2\n",
      "155 2 2\n",
      "156 2 2\n",
      "157 2 2\n",
      "158 2 2\n",
      "159 2 2\n",
      "Well done!\n"
     ]
    }
   ],
   "source": [
    "\n",
    "# create env manually to set time limit. Please don't change this.\n",
    "TIME_LIMIT = 250\n",
    "env = gym.wrappers.TimeLimit(gym.envs.classic_control.MountainCarEnv(),\n",
    "                             max_episode_steps=TIME_LIMIT + 1)\n",
    "s = env.reset()\n",
    "actions = {'left': 0, 'stop': 1, 'right': 2}\n",
    "\n",
    "# # prepare \"display\"\n",
    "# %matplotlib notebook\n",
    "# fig = plt.figure()\n",
    "# ax = fig.add_subplot(111)\n",
    "# fig.show()\n",
    "\n",
    "\n",
    "def policy(t):\n",
    "    # YOUR CODE HERE\n",
    "    if t < 39 or 90 <= t < 124:\n",
    "        return actions['left']\n",
    "    else:\n",
    "        return actions['right']\n",
    "    \n",
    "    \n",
    "for t in range(TIME_LIMIT):\n",
    "    \n",
    "#     print(t, policy(t), s)\n",
    "    s, r, done, _ = env.step(policy(t))\n",
    "    print(t, s, policy(t))\n",
    "    \n",
    "#     # change the line below to reach the flag\n",
    "#     if s[1] <= 0:\n",
    "# #         print(t, 'left')\n",
    "#         s, r, done, _ = env.step(actions['left'])\n",
    "#     else:\n",
    "#         s, r, done, _ = env.step(actions['right'])\n",
    "# #         print(t, 'right')\n",
    "    \n",
    "#     #draw game image on display\n",
    "#     ax.clear()\n",
    "#     ax.imshow(env.render('rgb_array'))\n",
    "#     fig.canvas.draw()\n",
    "    \n",
    "    if done:\n",
    "        print(\"Well done!\")\n",
    "        break\n",
    "else:    \n",
    "    print(\"Time limit exceeded. Try again.\")"
   ]
  },
  {
   "cell_type": "markdown",
   "metadata": {},
   "source": [
    "### Submit to coursera"
   ]
  },
  {
   "cell_type": "code",
   "execution_count": 26,
   "metadata": {},
   "outputs": [
    {
     "name": "stdout",
     "output_type": "stream",
     "text": [
      "\u001b[33mWARN: gym.spaces.Box autodetected dtype as <class 'numpy.float32'>. Please provide explicit dtype.\u001b[0m\n",
      "Submitted to Coursera platform. See results on assignment page!\n"
     ]
    }
   ],
   "source": [
    "from submit import submit_interface\n",
    "submit_interface(policy, 'e.mulliez@criteo.com', '1DJ33vyxgXIM4IY2')"
   ]
  },
  {
   "cell_type": "code",
   "execution_count": null,
   "metadata": {
    "collapsed": true
   },
   "outputs": [],
   "source": []
  }
 ],
 "metadata": {
  "kernelspec": {
   "display_name": "Python 3",
   "language": "python",
   "name": "python3"
  },
  "language_info": {
   "codemirror_mode": {
    "name": "ipython",
    "version": 3
   },
   "file_extension": ".py",
   "mimetype": "text/x-python",
   "name": "python",
   "nbconvert_exporter": "python",
   "pygments_lexer": "ipython3",
   "version": "3.6.0"
  }
 },
 "nbformat": 4,
 "nbformat_minor": 1
}
